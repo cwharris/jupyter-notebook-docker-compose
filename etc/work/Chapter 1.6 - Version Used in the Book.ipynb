{
 "cells": [
  {
   "cell_type": "code",
   "execution_count": 42,
   "metadata": {},
   "outputs": [],
   "source": [
    "import sys\n",
    "import numpy as np\n",
    "import matplotlib\n",
    "import matplotlib.pyplot as plt\n",
    "import pandas as pd\n",
    "import scipy as sp\n",
    "import sklearn\n",
    "# import mglearn\n",
    "from IPython.display import display"
   ]
  },
  {
   "cell_type": "code",
   "execution_count": 43,
   "metadata": {},
   "outputs": [
    {
     "name": "stdout",
     "output_type": "stream",
     "text": [
      "Python version: 3.8.3 | packaged by conda-forge | (default, Jun  1 2020, 17:43:00) \n",
      "[GCC 7.5.0]\n",
      "pandas version: 1.0.5\n",
      "matplotlib version: 3.2.2\n",
      "numpy version: 1.18.5\n",
      "scipy version: 1.4.1\n",
      "IPython version: 7.16.1\n",
      "sklearn version: 0.23.1\n"
     ]
    }
   ],
   "source": [
    "libs = {\n",
    "    \"pandas\": pd,\n",
    "    \"matplotlib\": matplotlib,\n",
    "    \"numpy\": np,\n",
    "    \"scipy\": sp,\n",
    "    \"IPython\": IPython,\n",
    "    \"sklearn\": sklearn\n",
    "}\n",
    "print(\"Python version: {}\".format(sys.version))\n",
    "for key, value in libs.items():\n",
    "    print(\"{} version: {}\".format(key, value.__version__))\n"
   ]
  },
  {
   "cell_type": "code",
   "execution_count": null,
   "metadata": {},
   "outputs": [],
   "source": []
  }
 ],
 "metadata": {
  "kernelspec": {
   "display_name": "Python 3",
   "language": "python",
   "name": "python3"
  },
  "language_info": {
   "codemirror_mode": {
    "name": "ipython",
    "version": 3
   },
   "file_extension": ".py",
   "mimetype": "text/x-python",
   "name": "python",
   "nbconvert_exporter": "python",
   "pygments_lexer": "ipython3",
   "version": "3.8.3"
  }
 },
 "nbformat": 4,
 "nbformat_minor": 4
}
